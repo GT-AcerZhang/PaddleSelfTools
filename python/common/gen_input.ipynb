{
 "cells": [
  {
   "cell_type": "code",
   "execution_count": 1,
   "metadata": {},
   "outputs": [],
   "source": [
    "import numpy as np"
   ]
  },
  {
   "cell_type": "code",
   "execution_count": 2,
   "metadata": {},
   "outputs": [],
   "source": [
    "size=[1,3,256,256]"
   ]
  },
  {
   "cell_type": "code",
   "execution_count": 3,
   "metadata": {},
   "outputs": [],
   "source": [
    "input = np.random.random(size)"
   ]
  },
  {
   "cell_type": "code",
   "execution_count": 4,
   "metadata": {},
   "outputs": [],
   "source": [
    "def stride_np(input):\n",
    "    tensor = input.flatten().tolist()\n",
    "    length = len(tensor)\n",
    "    size = 20\n",
    "    stride = length//size\n",
    "    if stride == 0:\n",
    "        stride = 1\n",
    "    size = int(length // stride)\n",
    "    print(size)\n",
    "    nums = []\n",
    "    for i in range(0, size):\n",
    "        item = tensor[i * stride]\n",
    "        nums.append(str(i * stride) + \": \" + str(item))\n",
    "    print(nums)"
   ]
  },
  {
   "cell_type": "code",
   "execution_count": 5,
   "metadata": {},
   "outputs": [],
   "source": [
    "def stride_list(tensor):\n",
    "    length = len(tensor)\n",
    "    size = 20\n",
    "    stride = length//size\n",
    "    if stride == 0:\n",
    "        stride = 1\n",
    "    size = int(length // stride)\n",
    "    print(size)\n",
    "    nums = []\n",
    "    for i in range(0, size):\n",
    "        item = tensor[i * stride]\n",
    "        nums.append(str(i * stride) + \": \" + str(item))\n",
    "    print(nums)"
   ]
  },
  {
   "cell_type": "code",
   "execution_count": 6,
   "metadata": {},
   "outputs": [
    {
     "name": "stdout",
     "output_type": "stream",
     "text": "20\n['0: 0.057032292126445006', '9830: 0.6730835918969603', '19660: 0.9740849103032421', '29490: 0.6747427636439682', '39320: 0.1928035526857872', '49150: 0.4049449413203533', '58980: 0.7607802649789268', '68810: 0.4674803138826443', '78640: 0.8830498968008716', '88470: 0.7391775331453558', '98300: 0.3156495969630696', '108130: 0.3380101228144792', '117960: 0.5311347835309219', '127790: 0.44395617565949763', '137620: 0.9313430079421782', '147450: 0.8938944717566892', '157280: 0.23964155411080856', '167110: 0.6645046837118742', '176940: 0.6909090754337232', '186770: 0.1273890457215835']\n"
    }
   ],
   "source": [
    "stride_np(input)"
   ]
  },
  {
   "cell_type": "code",
   "execution_count": 7,
   "metadata": {},
   "outputs": [],
   "source": [
    "input_list = input.flatten().tolist()"
   ]
  },
  {
   "cell_type": "code",
   "execution_count": 8,
   "metadata": {},
   "outputs": [
    {
     "name": "stdout",
     "output_type": "stream",
     "text": "20\n['0: 0.057032292126445006', '9830: 0.6730835918969603', '19660: 0.9740849103032421', '29490: 0.6747427636439682', '39320: 0.1928035526857872', '49150: 0.4049449413203533', '58980: 0.7607802649789268', '68810: 0.4674803138826443', '78640: 0.8830498968008716', '88470: 0.7391775331453558', '98300: 0.3156495969630696', '108130: 0.3380101228144792', '117960: 0.5311347835309219', '127790: 0.44395617565949763', '137620: 0.9313430079421782', '147450: 0.8938944717566892', '157280: 0.23964155411080856', '167110: 0.6645046837118742', '176940: 0.6909090754337232', '186770: 0.1273890457215835']\n"
    }
   ],
   "source": [
    "stride_list(input_list)"
   ]
  },
  {
   "cell_type": "code",
   "execution_count": 9,
   "metadata": {},
   "outputs": [],
   "source": [
    "def size_str(size):\n",
    "    size_ss=\"\"\n",
    "    for i in size:\n",
    "        size_ss+=\"_\"+str(i)\n",
    "    return size_ss"
   ]
  },
  {
   "cell_type": "code",
   "execution_count": 10,
   "metadata": {},
   "outputs": [],
   "source": [
    "import os\n",
    "feed_path = \"feeds\"\n",
    "def save_list_tofile(inp,size,name):\n",
    "    list = inp.flatten().tolist()\n",
    "    if not os.path.exists(feed_path):\n",
    "        os.mkdir(feed_path)\n",
    "    out_file = open(feed_path + \"/\" + name+size_str(size), \"w\")\n",
    "    for l in list:\n",
    "        out_file.write(\"{}\\n\".format(l))\n",
    "    out_file.close()"
   ]
  },
  {
   "cell_type": "code",
   "execution_count": 11,
   "metadata": {},
   "outputs": [],
   "source": [
    "save_list_tofile(input,size,\"input\")\n",
    "np.save(\"feeds/input\"+size_str(size)+\"nptxt\",input)"
   ]
  },
  {
   "cell_type": "code",
   "execution_count": 12,
   "metadata": {},
   "outputs": [
    {
     "name": "stdout",
     "output_type": "stream",
     "text": "input_1_3_256_256           input_1_3_256_256nptxt.npy\n"
    }
   ],
   "source": [
    "%ls feeds"
   ]
  },
  {
   "cell_type": "code",
   "execution_count": 13,
   "metadata": {},
   "outputs": [],
   "source": [
    "import subprocess\n",
    "images_path = \"/data/local/tmp/images\"\n",
    "def sh(command):\n",
    "    pipe = subprocess.Popen(command, shell=True, stdout=subprocess.PIPE, stderr=subprocess.STDOUT)\n",
    "    return pipe.stdout.read().decode(\"utf-8\")\n",
    "def push(src, dest=\"\"):\n",
    "    sh(\"adb push {} {}\".format(src, images_path + \"/\" + dest))"
   ]
  },
  {
   "cell_type": "code",
   "execution_count": 14,
   "metadata": {},
   "outputs": [],
   "source": [
    "push(\"feeds/input_1_3_256_256\",\"input_1_3_256_256\")"
   ]
  }
 ],
 "metadata": {
  "kernelspec": {
   "display_name": "Python 3",
   "language": "python",
   "name": "python3"
  },
  "language_info": {
   "codemirror_mode": {
    "name": "ipython",
    "version": 3
   },
   "file_extension": ".py",
   "mimetype": "text/x-python",
   "name": "python",
   "nbconvert_exporter": "python",
   "pygments_lexer": "ipython3",
   "version": "3.7.0"
  }
 },
 "nbformat": 4,
 "nbformat_minor": 2
}