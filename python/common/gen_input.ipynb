{
 "cells": [
  {
   "cell_type": "code",
   "execution_count": null,
   "metadata": {},
   "outputs": [],
   "source": [
    "import numpy as np"
   ]
  },
  {
   "cell_type": "code",
   "execution_count": null,
   "metadata": {},
   "outputs": [],
   "source": [
    "size=[1,3,256,256]"
   ]
  },
  {
   "cell_type": "code",
   "execution_count": null,
   "metadata": {},
   "outputs": [],
   "source": [
    "input = np.random.random(size)"
   ]
  },
  {
   "cell_type": "code",
   "execution_count": null,
   "metadata": {},
   "outputs": [],
   "source": []
  },
  {
   "cell_type": "code",
   "execution_count": null,
   "metadata": {},
   "outputs": [],
   "source": [
    "def stride_np(input):\n",
    "    tensor = input.flatten().tolist()\n",
    "    length = len(tensor)\n",
    "    size = 20\n",
    "    stride = length//size\n",
    "    if stride == 0:\n",
    "        stride = 1\n",
    "    size = int(length // stride)\n",
    "    print(size)\n",
    "    nums = []\n",
    "    for i in range(0, size):\n",
    "        item = tensor[i * stride]\n",
    "        nums.append(str(i * stride) + \": \" + str(item))\n",
    "    print(nums)"
   ]
  },
  {
   "cell_type": "code",
   "execution_count": null,
   "metadata": {},
   "outputs": [],
   "source": [
    "def stride_list(tensor):\n",
    "    length = len(tensor)\n",
    "    size = 20\n",
    "    stride = length//size\n",
    "    if stride == 0:\n",
    "        stride = 1\n",
    "    size = int(length // stride)\n",
    "    print(size)\n",
    "    nums = []\n",
    "    for i in range(0, size):\n",
    "        item = tensor[i * stride]\n",
    "        nums.append(str(i * stride) + \": \" + str(item))\n",
    "    print(nums)"
   ]
  },
  {
   "cell_type": "code",
   "execution_count": null,
   "metadata": {},
   "outputs": [],
   "source": [
    "stride_np(input)"
   ]
  },
  {
   "cell_type": "code",
   "execution_count": null,
   "metadata": {},
   "outputs": [],
   "source": [
    "input_list = input.flatten().tolist()"
   ]
  },
  {
   "cell_type": "code",
   "execution_count": null,
   "metadata": {},
   "outputs": [],
   "source": [
    "stride_list(input_list)"
   ]
  },
  {
   "cell_type": "code",
   "execution_count": null,
   "metadata": {},
   "outputs": [],
   "source": [
    "def size_str(size):\n",
    "    size_ss=\"\"\n",
    "    for i in size:\n",
    "        size_ss+=\"_\"+str(i)\n",
    "    return size_ss"
   ]
  },
  {
   "cell_type": "code",
   "execution_count": null,
   "metadata": {},
   "outputs": [],
   "source": [
    "import os\n",
    "feed_path = \"feeds\"\n",
    "def save_list_tofile(inp,size,name):\n",
    "    list = inp.flatten().tolist()\n",
    "    if not os.path.exists(feed_path):\n",
    "        os.mkdir(feed_path)\n",
    "    out_file = open(feed_path + \"/\" + name+size_str(size), \"w\")\n",
    "    for l in list:\n",
    "        out_file.write(\"{}\\n\".format(l))\n",
    "    out_file.close()"
   ]
  },
  {
   "cell_type": "code",
   "execution_count": null,
   "metadata": {},
   "outputs": [],
   "source": [
    "save_list_tofile(input,size,\"input\")\n",
    "np.save(\"feeds/input\"+size_str(size)+\"nptxt\",input)"
   ]
  },
  {
   "cell_type": "code",
   "execution_count": null,
   "metadata": {},
   "outputs": [],
   "source": [
    "%ls feeds"
   ]
  },
  {
   "cell_type": "code",
   "execution_count": null,
   "metadata": {},
   "outputs": [],
   "source": [
    "import subprocess\n",
    "images_path = \"/data/local/tmp/images\"\n",
    "def sh(command):\n",
    "    pipe = subprocess.Popen(command, shell=True, stdout=subprocess.PIPE, stderr=subprocess.STDOUT)\n",
    "    return pipe.stdout.read().decode(\"utf-8\")\n",
    "def push(src, dest=\"\"):\n",
    "    sh(\"adb push {} {}\".format(src, images_path + \"/\" + dest))"
   ]
  },
  {
   "cell_type": "code",
   "execution_count": null,
   "metadata": {},
   "outputs": [],
   "source": []
  },
  {
   "cell_type": "code",
   "execution_count": null,
   "metadata": {},
   "outputs": [],
   "source": [
    "push(\"feeds/input_1_3_256_256\",\"input_1_3_256_256\")"
   ]
  }
 ],
 "metadata": {
  "kernelspec": {
   "display_name": "Python 3",
   "language": "python",
   "name": "python3"
  },
  "language_info": {
   "codemirror_mode": {
    "name": "ipython",
    "version": 3
   },
   "file_extension": ".py",
   "mimetype": "text/x-python",
   "name": "python",
   "nbconvert_exporter": "python",
   "pygments_lexer": "ipython3",
   "version": "3.7.0-final"
  }
 },
 "nbformat": 4,
 "nbformat_minor": 2
}